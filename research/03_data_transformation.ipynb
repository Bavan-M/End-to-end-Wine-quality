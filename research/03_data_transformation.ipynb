{
 "cells": [
  {
   "cell_type": "code",
   "execution_count": 33,
   "id": "b3e28d13",
   "metadata": {},
   "outputs": [
    {
     "name": "stdout",
     "output_type": "stream",
     "text": [
      "✅ Current directory: C:\\Users\\user\\Python Programs\\Resume Projects\\End-to-end-Wine-quality\n"
     ]
    }
   ],
   "source": [
    "import os\n",
    "\n",
    "# Set working directory to your project root explicitly\n",
    "os.chdir(r\"C:\\Users\\user\\Python Programs\\Resume Projects\\End-to-end-Wine-quality\")\n",
    "\n",
    "print(\"✅ Current directory:\", os.getcwd())"
   ]
  },
  {
   "cell_type": "code",
   "execution_count": 34,
   "id": "17e98c92",
   "metadata": {},
   "outputs": [],
   "source": [
    "from dataclasses import dataclass\n",
    "from pathlib import Path"
   ]
  },
  {
   "cell_type": "code",
   "execution_count": 35,
   "id": "0a788650",
   "metadata": {},
   "outputs": [],
   "source": [
    "@dataclass(frozen=True)\n",
    "class DataTransformationConfig:\n",
    "    root_dir:Path\n",
    "    data_path:Path\n"
   ]
  },
  {
   "cell_type": "code",
   "execution_count": 36,
   "id": "ee23c094",
   "metadata": {},
   "outputs": [],
   "source": [
    "from mlProject.constants import CONFIG_FILE_PATH,SCHEMA_FILE_PATH,PARAMS_FILE_PATH\n",
    "from mlProject.utils.common import read_yaml,crate_directories"
   ]
  },
  {
   "cell_type": "code",
   "execution_count": 37,
   "id": "80865bfe",
   "metadata": {},
   "outputs": [],
   "source": [
    "class ConfigurationManager:\n",
    "    def __init__(self,\n",
    "                 config_filepath=CONFIG_FILE_PATH,\n",
    "                 params_filepath=PARAMS_FILE_PATH,\n",
    "                 schema_filepath=SCHEMA_FILE_PATH):\n",
    "        \n",
    "        self.config=read_yaml(config_filepath)\n",
    "        self.params=read_yaml(params_filepath)\n",
    "        self.schema=read_yaml(schema_filepath)\n",
    "\n",
    "        crate_directories([self.config.artifacts_root])\n",
    "        \n",
    "    def get_data_transformation(self)->DataTransformationConfig:\n",
    "        config=self.config.data_transformation\n",
    "        crate_directories([config.root_dir])\n",
    "        data_transformation=DataTransformationConfig(root_dir=config.root_dir,data_path=config.data_path)\n",
    "        return data_transformation\n"
   ]
  },
  {
   "cell_type": "code",
   "execution_count": 38,
   "id": "33c16151",
   "metadata": {},
   "outputs": [],
   "source": [
    "from mlProject import logger\n",
    "from sklearn.model_selection import train_test_split\n",
    "import pandas as pd"
   ]
  },
  {
   "cell_type": "code",
   "execution_count": 39,
   "id": "157fba54",
   "metadata": {},
   "outputs": [],
   "source": [
    "class DataTrnsformation:\n",
    "    def __init__(self,config:DataTransformationConfig):\n",
    "        self.config=config\n",
    "    \n",
    "    def train_test_split(self):\n",
    "        data=pd.read_csv(self.config.data_path)\n",
    "        train,test=train_test_split(data)\n",
    "\n",
    "        train.to_csv(os.path.join(self.config.root_dir,'train.csv'),index=False)\n",
    "        test.to_csv(os.path.join(self.config.root_dir,'test.csv'),index=False)\n",
    "\n",
    "        logger.info(\"Splitted data into training and test sets\")\n",
    "        logger.info(train.shape)\n",
    "        logger.info(test.shape)\n",
    "\n",
    "        print(train.shape)\n",
    "        print(test.shape)\n",
    "\n",
    "\n",
    "                                                                                                       "
   ]
  },
  {
   "cell_type": "code",
   "execution_count": 40,
   "id": "e7ef6691",
   "metadata": {},
   "outputs": [
    {
     "name": "stdout",
     "output_type": "stream",
     "text": [
      "[2025-06-21 15:14:55,229: INFO: common: yaml file:config\\config.yaml loaded sucessfully]\n",
      "[2025-06-21 15:14:55,230: INFO: common: yaml file:params.yaml loaded sucessfully]\n",
      "[2025-06-21 15:14:55,232: INFO: common: yaml file:schema.yaml loaded sucessfully]\n",
      "[2025-06-21 15:14:55,233: INFO: common: created directory at:artifacts]\n",
      "[2025-06-21 15:14:55,233: INFO: common: created directory at:artifacts/data_transformation]\n",
      "[2025-06-21 15:14:55,245: INFO: 2677077426: Splitted data into training and test sets]\n",
      "[2025-06-21 15:14:55,246: INFO: 2677077426: (1199, 12)]\n",
      "[2025-06-21 15:14:55,246: INFO: 2677077426: (400, 12)]\n",
      "(1199, 12)\n",
      "(400, 12)\n"
     ]
    }
   ],
   "source": [
    "try:\n",
    "    config=ConfigurationManager()\n",
    "    data_transformation_config=config.get_data_transformation()\n",
    "    data_transformation=DataTrnsformation(config=data_transformation_config)\n",
    "    data_transformation.train_test_split()\n",
    "except Exception as e:\n",
    "    raise e"
   ]
  },
  {
   "cell_type": "code",
   "execution_count": null,
   "id": "f4dcb65c",
   "metadata": {},
   "outputs": [],
   "source": []
  }
 ],
 "metadata": {
  "kernelspec": {
   "display_name": "mlproj",
   "language": "python",
   "name": "python3"
  },
  "language_info": {
   "codemirror_mode": {
    "name": "ipython",
    "version": 3
   },
   "file_extension": ".py",
   "mimetype": "text/x-python",
   "name": "python",
   "nbconvert_exporter": "python",
   "pygments_lexer": "ipython3",
   "version": "3.8.0"
  }
 },
 "nbformat": 4,
 "nbformat_minor": 5
}
